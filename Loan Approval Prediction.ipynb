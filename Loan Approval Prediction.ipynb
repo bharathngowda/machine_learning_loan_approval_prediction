{
 "cells": [
  {
   "cell_type": "code",
   "execution_count": 1,
   "id": "tight-state",
   "metadata": {},
   "outputs": [],
   "source": [
    "import pandas as pd\n",
    "import numpy as np\n",
    "from sklearn.model_selection import train_test_split\n",
    "import sklearn.metrics as metrics\n",
    "import matplotlib.pyplot as plt\n",
    "import seaborn as sns\n",
    "import re\n",
    "from sklearn.preprocessing import StandardScaler, OneHotEncoder, RobustScaler,Normalizer,OrdinalEncoder\n",
    "from sklearn.compose import ColumnTransformer\n",
    "from sklearn.model_selection import KFold, cross_validate,cross_val_score, GridSearchCV, RandomizedSearchCV\n",
    "from sklearn.pipeline import make_pipeline,Pipeline\n",
    "from sklearn.ensemble import RandomForestClassifier, BaggingClassifier\n",
    "from sklearn.feature_selection import SequentialFeatureSelector, SelectKBest, chi2, SelectFromModel,mutual_info_classif\n",
    "from sklearn.feature_selection import VarianceThreshold, RFE\n",
    "from sklearn.linear_model import LogisticRegression\n",
    "from sklearn.discriminant_analysis import LinearDiscriminantAnalysis,QuadraticDiscriminantAnalysis\n",
    "from sklearn.neighbors import KNeighborsClassifier\n",
    "from sklearn.tree import DecisionTreeClassifier\n",
    "from sklearn.ensemble import RandomForestClassifier\n",
    "from sklearn.svm import SVC,LinearSVC\n",
    "import warnings\n",
    "warnings.filterwarnings(\"ignore\")"
   ]
  },
  {
   "cell_type": "code",
   "execution_count": 2,
   "id": "ancient-moment",
   "metadata": {},
   "outputs": [
    {
     "data": {
      "text/html": [
       "<div>\n",
       "<style scoped>\n",
       "    .dataframe tbody tr th:only-of-type {\n",
       "        vertical-align: middle;\n",
       "    }\n",
       "\n",
       "    .dataframe tbody tr th {\n",
       "        vertical-align: top;\n",
       "    }\n",
       "\n",
       "    .dataframe thead th {\n",
       "        text-align: right;\n",
       "    }\n",
       "</style>\n",
       "<table border=\"1\" class=\"dataframe\">\n",
       "  <thead>\n",
       "    <tr style=\"text-align: right;\">\n",
       "      <th></th>\n",
       "      <th>Loan_ID</th>\n",
       "      <th>Gender</th>\n",
       "      <th>Married</th>\n",
       "      <th>Dependents</th>\n",
       "      <th>Education</th>\n",
       "      <th>Self_Employed</th>\n",
       "      <th>ApplicantIncome</th>\n",
       "      <th>CoapplicantIncome</th>\n",
       "      <th>LoanAmount</th>\n",
       "      <th>Loan_Amount_Term</th>\n",
       "      <th>Credit_History</th>\n",
       "      <th>Property_Area</th>\n",
       "      <th>Loan_Status</th>\n",
       "    </tr>\n",
       "  </thead>\n",
       "  <tbody>\n",
       "    <tr>\n",
       "      <th>0</th>\n",
       "      <td>LP001002</td>\n",
       "      <td>Male</td>\n",
       "      <td>No</td>\n",
       "      <td>0</td>\n",
       "      <td>Graduate</td>\n",
       "      <td>No</td>\n",
       "      <td>5849</td>\n",
       "      <td>0.0</td>\n",
       "      <td>NaN</td>\n",
       "      <td>360.0</td>\n",
       "      <td>1.0</td>\n",
       "      <td>Urban</td>\n",
       "      <td>Y</td>\n",
       "    </tr>\n",
       "    <tr>\n",
       "      <th>1</th>\n",
       "      <td>LP001003</td>\n",
       "      <td>Male</td>\n",
       "      <td>Yes</td>\n",
       "      <td>1</td>\n",
       "      <td>Graduate</td>\n",
       "      <td>No</td>\n",
       "      <td>4583</td>\n",
       "      <td>1508.0</td>\n",
       "      <td>128.0</td>\n",
       "      <td>360.0</td>\n",
       "      <td>1.0</td>\n",
       "      <td>Rural</td>\n",
       "      <td>N</td>\n",
       "    </tr>\n",
       "    <tr>\n",
       "      <th>2</th>\n",
       "      <td>LP001005</td>\n",
       "      <td>Male</td>\n",
       "      <td>Yes</td>\n",
       "      <td>0</td>\n",
       "      <td>Graduate</td>\n",
       "      <td>Yes</td>\n",
       "      <td>3000</td>\n",
       "      <td>0.0</td>\n",
       "      <td>66.0</td>\n",
       "      <td>360.0</td>\n",
       "      <td>1.0</td>\n",
       "      <td>Urban</td>\n",
       "      <td>Y</td>\n",
       "    </tr>\n",
       "    <tr>\n",
       "      <th>3</th>\n",
       "      <td>LP001006</td>\n",
       "      <td>Male</td>\n",
       "      <td>Yes</td>\n",
       "      <td>0</td>\n",
       "      <td>Not Graduate</td>\n",
       "      <td>No</td>\n",
       "      <td>2583</td>\n",
       "      <td>2358.0</td>\n",
       "      <td>120.0</td>\n",
       "      <td>360.0</td>\n",
       "      <td>1.0</td>\n",
       "      <td>Urban</td>\n",
       "      <td>Y</td>\n",
       "    </tr>\n",
       "    <tr>\n",
       "      <th>4</th>\n",
       "      <td>LP001008</td>\n",
       "      <td>Male</td>\n",
       "      <td>No</td>\n",
       "      <td>0</td>\n",
       "      <td>Graduate</td>\n",
       "      <td>No</td>\n",
       "      <td>6000</td>\n",
       "      <td>0.0</td>\n",
       "      <td>141.0</td>\n",
       "      <td>360.0</td>\n",
       "      <td>1.0</td>\n",
       "      <td>Urban</td>\n",
       "      <td>Y</td>\n",
       "    </tr>\n",
       "    <tr>\n",
       "      <th>...</th>\n",
       "      <td>...</td>\n",
       "      <td>...</td>\n",
       "      <td>...</td>\n",
       "      <td>...</td>\n",
       "      <td>...</td>\n",
       "      <td>...</td>\n",
       "      <td>...</td>\n",
       "      <td>...</td>\n",
       "      <td>...</td>\n",
       "      <td>...</td>\n",
       "      <td>...</td>\n",
       "      <td>...</td>\n",
       "      <td>...</td>\n",
       "    </tr>\n",
       "    <tr>\n",
       "      <th>609</th>\n",
       "      <td>LP002978</td>\n",
       "      <td>Female</td>\n",
       "      <td>No</td>\n",
       "      <td>0</td>\n",
       "      <td>Graduate</td>\n",
       "      <td>No</td>\n",
       "      <td>2900</td>\n",
       "      <td>0.0</td>\n",
       "      <td>71.0</td>\n",
       "      <td>360.0</td>\n",
       "      <td>1.0</td>\n",
       "      <td>Rural</td>\n",
       "      <td>Y</td>\n",
       "    </tr>\n",
       "    <tr>\n",
       "      <th>610</th>\n",
       "      <td>LP002979</td>\n",
       "      <td>Male</td>\n",
       "      <td>Yes</td>\n",
       "      <td>3+</td>\n",
       "      <td>Graduate</td>\n",
       "      <td>No</td>\n",
       "      <td>4106</td>\n",
       "      <td>0.0</td>\n",
       "      <td>40.0</td>\n",
       "      <td>180.0</td>\n",
       "      <td>1.0</td>\n",
       "      <td>Rural</td>\n",
       "      <td>Y</td>\n",
       "    </tr>\n",
       "    <tr>\n",
       "      <th>611</th>\n",
       "      <td>LP002983</td>\n",
       "      <td>Male</td>\n",
       "      <td>Yes</td>\n",
       "      <td>1</td>\n",
       "      <td>Graduate</td>\n",
       "      <td>No</td>\n",
       "      <td>8072</td>\n",
       "      <td>240.0</td>\n",
       "      <td>253.0</td>\n",
       "      <td>360.0</td>\n",
       "      <td>1.0</td>\n",
       "      <td>Urban</td>\n",
       "      <td>Y</td>\n",
       "    </tr>\n",
       "    <tr>\n",
       "      <th>612</th>\n",
       "      <td>LP002984</td>\n",
       "      <td>Male</td>\n",
       "      <td>Yes</td>\n",
       "      <td>2</td>\n",
       "      <td>Graduate</td>\n",
       "      <td>No</td>\n",
       "      <td>7583</td>\n",
       "      <td>0.0</td>\n",
       "      <td>187.0</td>\n",
       "      <td>360.0</td>\n",
       "      <td>1.0</td>\n",
       "      <td>Urban</td>\n",
       "      <td>Y</td>\n",
       "    </tr>\n",
       "    <tr>\n",
       "      <th>613</th>\n",
       "      <td>LP002990</td>\n",
       "      <td>Female</td>\n",
       "      <td>No</td>\n",
       "      <td>0</td>\n",
       "      <td>Graduate</td>\n",
       "      <td>Yes</td>\n",
       "      <td>4583</td>\n",
       "      <td>0.0</td>\n",
       "      <td>133.0</td>\n",
       "      <td>360.0</td>\n",
       "      <td>0.0</td>\n",
       "      <td>Semiurban</td>\n",
       "      <td>N</td>\n",
       "    </tr>\n",
       "  </tbody>\n",
       "</table>\n",
       "<p>614 rows × 13 columns</p>\n",
       "</div>"
      ],
      "text/plain": [
       "      Loan_ID  Gender Married Dependents     Education Self_Employed  \\\n",
       "0    LP001002    Male      No          0      Graduate            No   \n",
       "1    LP001003    Male     Yes          1      Graduate            No   \n",
       "2    LP001005    Male     Yes          0      Graduate           Yes   \n",
       "3    LP001006    Male     Yes          0  Not Graduate            No   \n",
       "4    LP001008    Male      No          0      Graduate            No   \n",
       "..        ...     ...     ...        ...           ...           ...   \n",
       "609  LP002978  Female      No          0      Graduate            No   \n",
       "610  LP002979    Male     Yes         3+      Graduate            No   \n",
       "611  LP002983    Male     Yes          1      Graduate            No   \n",
       "612  LP002984    Male     Yes          2      Graduate            No   \n",
       "613  LP002990  Female      No          0      Graduate           Yes   \n",
       "\n",
       "     ApplicantIncome  CoapplicantIncome  LoanAmount  Loan_Amount_Term  \\\n",
       "0               5849                0.0         NaN             360.0   \n",
       "1               4583             1508.0       128.0             360.0   \n",
       "2               3000                0.0        66.0             360.0   \n",
       "3               2583             2358.0       120.0             360.0   \n",
       "4               6000                0.0       141.0             360.0   \n",
       "..               ...                ...         ...               ...   \n",
       "609             2900                0.0        71.0             360.0   \n",
       "610             4106                0.0        40.0             180.0   \n",
       "611             8072              240.0       253.0             360.0   \n",
       "612             7583                0.0       187.0             360.0   \n",
       "613             4583                0.0       133.0             360.0   \n",
       "\n",
       "     Credit_History Property_Area Loan_Status  \n",
       "0               1.0         Urban           Y  \n",
       "1               1.0         Rural           N  \n",
       "2               1.0         Urban           Y  \n",
       "3               1.0         Urban           Y  \n",
       "4               1.0         Urban           Y  \n",
       "..              ...           ...         ...  \n",
       "609             1.0         Rural           Y  \n",
       "610             1.0         Rural           Y  \n",
       "611             1.0         Urban           Y  \n",
       "612             1.0         Urban           Y  \n",
       "613             0.0     Semiurban           N  \n",
       "\n",
       "[614 rows x 13 columns]"
      ]
     },
     "execution_count": 2,
     "metadata": {},
     "output_type": "execute_result"
    }
   ],
   "source": [
    "train=pd.read_csv('Datasets\\\\Loan Approval\\\\Loan_train.csv')\n",
    "test=pd.read_csv('Datasets\\\\Loan Approval\\\\Loan_test.csv')\n",
    "train"
   ]
  },
  {
   "cell_type": "code",
   "execution_count": 3,
   "id": "tropical-meditation",
   "metadata": {},
   "outputs": [
    {
     "data": {
      "image/png": "[encoded data removed]",
      "text/plain": [
       "<Figure size 1080x504 with 1 Axes>"
      ]
     },
     "metadata": {
      "needs_background": "light"
     },
     "output_type": "display_data"
    }
   ],
   "source": [
    "fig,ax=plt.subplots(figsize=(15,7))\n",
    "ax.bar(train.Loan_Status.value_counts().index,train.Loan_Status.value_counts().values)\n",
    "ax.set_xlabel('Loan_Status')\n",
    "ax.set_ylabel('Count')\n",
    "ax.set_xticks([0,1])\n",
    "ax.set_xticklabels(['Yes (1)','No (0)'])\n",
    "for p in ax.patches:\n",
    "    h = p.get_height()\n",
    "    x = p.get_x()+p.get_width()/2\n",
    "    ax.annotate(\"%g\" % p.get_height(), xy=(x,h), xytext=(0,2),textcoords=\"offset points\", ha=\"center\", va=\"bottom\")"
   ]
  },
  {
   "cell_type": "code",
   "execution_count": 4,
   "id": "found-acceptance",
   "metadata": {},
   "outputs": [],
   "source": [
    "x=train[[x for x in train.columns if x !='Loan_Status']]\n",
    "y=train[['Loan_Status']]\n",
    "x_train,x_test,y_train,y_test=train_test_split(x,y,test_size=.2,random_state=1)\n",
    "sub_train=x_train.join(y_train)\n",
    "sub_test=x_test.join(y_test)"
   ]
  },
  {
   "cell_type": "markdown",
   "id": "accredited-sharing",
   "metadata": {},
   "source": [
    "# Null Value Detection and Imputation"
   ]
  },
  {
   "cell_type": "code",
   "execution_count": 5,
   "id": "bearing-exception",
   "metadata": {},
   "outputs": [
    {
     "data": {
      "text/html": [
       "<div>\n",
       "<style scoped>\n",
       "    .dataframe tbody tr th:only-of-type {\n",
       "        vertical-align: middle;\n",
       "    }\n",
       "\n",
       "    .dataframe tbody tr th {\n",
       "        vertical-align: top;\n",
       "    }\n",
       "\n",
       "    .dataframe thead th {\n",
       "        text-align: right;\n",
       "    }\n",
       "</style>\n",
       "<table border=\"1\" class=\"dataframe\">\n",
       "  <thead>\n",
       "    <tr style=\"text-align: right;\">\n",
       "      <th></th>\n",
       "      <th>sub_test_null_count</th>\n",
       "      <th>sub_train_null_count</th>\n",
       "      <th>sub_train_null_%</th>\n",
       "      <th>sub_test_null_%</th>\n",
       "    </tr>\n",
       "  </thead>\n",
       "  <tbody>\n",
       "    <tr>\n",
       "      <th>Gender</th>\n",
       "      <td>4</td>\n",
       "      <td>9</td>\n",
       "      <td>1.83</td>\n",
       "      <td>3.25</td>\n",
       "    </tr>\n",
       "    <tr>\n",
       "      <th>Married</th>\n",
       "      <td>1</td>\n",
       "      <td>2</td>\n",
       "      <td>0.41</td>\n",
       "      <td>0.81</td>\n",
       "    </tr>\n",
       "    <tr>\n",
       "      <th>Dependents</th>\n",
       "      <td>5</td>\n",
       "      <td>10</td>\n",
       "      <td>2.04</td>\n",
       "      <td>4.07</td>\n",
       "    </tr>\n",
       "    <tr>\n",
       "      <th>Self_Employed</th>\n",
       "      <td>8</td>\n",
       "      <td>24</td>\n",
       "      <td>4.89</td>\n",
       "      <td>6.50</td>\n",
       "    </tr>\n",
       "    <tr>\n",
       "      <th>LoanAmount</th>\n",
       "      <td>5</td>\n",
       "      <td>17</td>\n",
       "      <td>3.46</td>\n",
       "      <td>4.07</td>\n",
       "    </tr>\n",
       "    <tr>\n",
       "      <th>Loan_Amount_Term</th>\n",
       "      <td>4</td>\n",
       "      <td>10</td>\n",
       "      <td>2.04</td>\n",
       "      <td>3.25</td>\n",
       "    </tr>\n",
       "    <tr>\n",
       "      <th>Credit_History</th>\n",
       "      <td>6</td>\n",
       "      <td>44</td>\n",
       "      <td>8.96</td>\n",
       "      <td>4.88</td>\n",
       "    </tr>\n",
       "  </tbody>\n",
       "</table>\n",
       "</div>"
      ],
      "text/plain": [
       "                  sub_test_null_count  sub_train_null_count  sub_train_null_%  \\\n",
       "Gender                              4                     9              1.83   \n",
       "Married                             1                     2              0.41   \n",
       "Dependents                          5                    10              2.04   \n",
       "Self_Employed                       8                    24              4.89   \n",
       "LoanAmount                          5                    17              3.46   \n",
       "Loan_Amount_Term                    4                    10              2.04   \n",
       "Credit_History                      6                    44              8.96   \n",
       "\n",
       "                  sub_test_null_%  \n",
       "Gender                       3.25  \n",
       "Married                      0.81  \n",
       "Dependents                   4.07  \n",
       "Self_Employed                6.50  \n",
       "LoanAmount                   4.07  \n",
       "Loan_Amount_Term             3.25  \n",
       "Credit_History               4.88  "
      ]
     },
     "execution_count": 5,
     "metadata": {},
     "output_type": "execute_result"
    }
   ],
   "source": [
    "sub_train_null_counts=pd.DataFrame(sub_train.isnull().sum(),columns=['sub_train_null_count'])\n",
    "sub_train_null_counts=sub_train_null_counts.loc[sub_train_null_counts.sub_train_null_count>0]\n",
    "sub_test_null_counts=pd.DataFrame(sub_test.isnull().sum(),columns=['sub_test_null_count'])\n",
    "sub_test_null_counts=sub_test_null_counts.loc[sub_test_null_counts.sub_test_null_count>0]\n",
    "null_counts=sub_test_null_counts.join(sub_train_null_counts).fillna(0)\n",
    "null_counts['sub_train_null_%']=round((null_counts['sub_train_null_count']/sub_train.shape[0])*100,2)\n",
    "null_counts['sub_test_null_%']=round((null_counts['sub_test_null_count']/sub_test.shape[0])*100,2)\n",
    "null_counts"
   ]
  },
  {
   "cell_type": "code",
   "execution_count": 6,
   "id": "worthy-tower",
   "metadata": {},
   "outputs": [
    {
     "name": "stdout",
     "output_type": "stream",
     "text": [
      "<class 'pandas.core.frame.DataFrame'>\n",
      "Int64Index: 491 entries, 291 to 37\n",
      "Data columns (total 13 columns):\n",
      " #   Column             Non-Null Count  Dtype  \n",
      "---  ------             --------------  -----  \n",
      " 0   Loan_ID            491 non-null    object \n",
      " 1   Gender             482 non-null    object \n",
      " 2   Married            489 non-null    object \n",
      " 3   Dependents         481 non-null    object \n",
      " 4   Education          491 non-null    object \n",
      " 5   Self_Employed      467 non-null    object \n",
      " 6   ApplicantIncome    491 non-null    int64  \n",
      " 7   CoapplicantIncome  491 non-null    float64\n",
      " 8   LoanAmount         474 non-null    float64\n",
      " 9   Loan_Amount_Term   481 non-null    float64\n",
      " 10  Credit_History     447 non-null    float64\n",
      " 11  Property_Area      491 non-null    object \n",
      " 12  Loan_Status        491 non-null    object \n",
      "dtypes: float64(4), int64(1), object(8)\n",
      "memory usage: 69.9+ KB\n"
     ]
    }
   ],
   "source": [
    "sub_train.info()"
   ]
  },
  {
   "cell_type": "code",
   "execution_count": 7,
   "id": "communist-continent",
   "metadata": {},
   "outputs": [],
   "source": [
    "# Categorical\n",
    "for i in [x for x in null_counts.index.to_list() if x not in ['Loan_Amount_Term','LoanAmount']]:\n",
    "    sub_train[i].fillna(sub_train[i].mode().values[0],inplace=True)\n",
    "    sub_test[i].fillna(sub_test[i].mode().values[0],inplace=True)\n",
    "\n",
    "# Numerical    \n",
    "for i in ['Loan_Amount_Term','LoanAmount']:\n",
    "    sub_train[i].fillna(sub_train[i].median(),inplace=True)\n",
    "    sub_test[i].fillna(sub_test[i].median(),inplace=True)"
   ]
  },
  {
   "cell_type": "markdown",
   "id": "objective-going",
   "metadata": {},
   "source": [
    "# Exploratory Data Analysis"
   ]
  },
  {
   "cell_type": "code",
   "execution_count": 8,
   "id": "southwest-biology",
   "metadata": {},
   "outputs": [
    {
     "data": {
      "image/png": "[encoded data removed]",
      "text/plain": [
       "<Figure size 1080x504 with 1 Axes>"
      ]
     },
     "metadata": {
      "needs_background": "light"
     },
     "output_type": "display_data"
    }
   ],
   "source": [
    "group=pd.DataFrame(sub_train.groupby(['Loan_Status','Gender']).count()['Loan_ID'])\n",
    "width=.35\n",
    "x=np.arange(len(group.loc['N'].index))\n",
    "fig,ax=plt.subplots(figsize=(15,7))\n",
    "rects1 = ax.bar(x - width/2, [i for i in group.loc['N'].Loan_ID], width, label='Not Approved')\n",
    "rects2 = ax.bar(x + width/2, [i for i in group.loc['Y'].Loan_ID], width, label='Approved')\n",
    "ax.set_xticks(x)\n",
    "ax.set_xticklabels(group.loc['N'].index)\n",
    "ax.legend()\n",
    "ax.set_title('Gender vs Loan Status')\n",
    "for p in ax.patches:\n",
    "    h = p.get_height()\n",
    "    x = p.get_x()+p.get_width()/2\n",
    "    ax.annotate(\"%g\" % p.get_height(), xy=(x,h), xytext=(0,2),textcoords=\"offset points\", ha=\"center\", va=\"bottom\")"
   ]
  },
  {
   "cell_type": "code",
   "execution_count": 9,
   "id": "english-polish",
   "metadata": {},
   "outputs": [
    {
     "data": {
      "image/png": "[encoded data removed]",
      "text/plain": [
       "<Figure size 1080x504 with 1 Axes>"
      ]
     },
     "metadata": {
      "needs_background": "light"
     },
     "output_type": "display_data"
    }
   ],
   "source": [
    "group=pd.DataFrame(train.groupby(['Loan_Status','Married']).count()['Loan_ID'])\n",
    "width=.35\n",
    "x=np.arange(len(group.loc['N'].index))\n",
    "fig,ax=plt.subplots(figsize=(15,7))\n",
    "rects1 = ax.bar(x - width/2, [i for i in group.loc['N'].Loan_ID], width, label='Not Approved')\n",
    "rects2 = ax.bar(x + width/2, [i for i in group.loc['Y'].Loan_ID], width, label='Approved')\n",
    "ax.set_xticks(x)\n",
    "ax.set_xticklabels(group.loc['N'].index)\n",
    "ax.legend()\n",
    "ax.set_title('Married vs Loan Status')\n",
    "for p in ax.patches:\n",
    "    h = p.get_height()\n",
    "    x = p.get_x()+p.get_width()/2\n",
    "    ax.annotate(\"%g\" % p.get_height(), xy=(x,h), xytext=(0,2),textcoords=\"offset points\", ha=\"center\", va=\"bottom\")"
   ]
  },
  {
   "cell_type": "code",
   "execution_count": 10,
   "id": "forward-detective",
   "metadata": {},
   "outputs": [
    {
     "data": {
      "image/png": "[encoded data removed]",
      "text/plain": [
       "<Figure size 1080x504 with 1 Axes>"
      ]
     },
     "metadata": {
      "needs_background": "light"
     },
     "output_type": "display_data"
    }
   ],
   "source": [
    "group=pd.DataFrame(train.groupby(['Loan_Status','Dependents']).count()['Loan_ID'])\n",
    "width=.35\n",
    "x=np.arange(len(group.loc['N'].index))\n",
    "fig,ax=plt.subplots(figsize=(15,7))\n",
    "rects1 = ax.bar(x - width/2, [i for i in group.loc['N'].Loan_ID], width, label='Not Approved')\n",
    "rects2 = ax.bar(x + width/2, [i for i in group.loc['Y'].Loan_ID], width, label='Approved')\n",
    "ax.set_xticks(x)\n",
    "ax.set_xticklabels(group.loc['N'].index)\n",
    "ax.legend()\n",
    "ax.set_title('Dependents vs Loan Status')\n",
    "for p in ax.patches:\n",
    "    h = p.get_height()\n",
    "    x = p.get_x()+p.get_width()/2\n",
    "    ax.annotate(\"%g\" % p.get_height(), xy=(x,h), xytext=(0,2),textcoords=\"offset points\", ha=\"center\", va=\"bottom\")"
   ]
  },
  {
   "cell_type": "code",
   "execution_count": 11,
   "id": "marine-scott",
   "metadata": {},
   "outputs": [
    {
     "data": {
      "image/png": "[encoded data removed]",
      "text/plain": [
       "<Figure size 1080x504 with 1 Axes>"
      ]
     },
     "metadata": {
      "needs_background": "light"
     },
     "output_type": "display_data"
    }
   ],
   "source": [
    "group=pd.DataFrame(train.groupby(['Loan_Status','Education']).count()['Loan_ID'])\n",
    "width=.35\n",
    "x=np.arange(len(group.loc['N'].index))\n",
    "fig,ax=plt.subplots(figsize=(15,7))\n",
    "rects1 = ax.bar(x - width/2, [i for i in group.loc['N'].Loan_ID], width, label='Not Approved')\n",
    "rects2 = ax.bar(x + width/2, [i for i in group.loc['Y'].Loan_ID], width, label='Approved')\n",
    "ax.set_xticks(x)\n",
    "ax.set_xticklabels(group.loc['N'].index)\n",
    "ax.legend()\n",
    "ax.set_title('Education vs Loan Status')\n",
    "for p in ax.patches:\n",
    "    h = p.get_height()\n",
    "    x = p.get_x()+p.get_width()/2\n",
    "    ax.annotate(\"%g\" % p.get_height(), xy=(x,h), xytext=(0,2),textcoords=\"offset points\", ha=\"center\", va=\"bottom\")"
   ]
  },
  {
   "cell_type": "code",
   "execution_count": 12,
   "id": "interracial-beaver",
   "metadata": {},
   "outputs": [
    {
     "data": {
      "image/png": "[encoded data removed]",
      "text/plain": [
       "<Figure size 1080x504 with 1 Axes>"
      ]
     },
     "metadata": {
      "needs_background": "light"
     },
     "output_type": "display_data"
    }
   ],
   "source": [
    "group=pd.DataFrame(train.groupby(['Loan_Status','Self_Employed']).count()['Loan_ID'])\n",
    "width=.35\n",
    "x=np.arange(len(group.loc['N'].index))\n",
    "fig,ax=plt.subplots(figsize=(15,7))\n",
    "rects1 = ax.bar(x - width/2, [i for i in group.loc['N'].Loan_ID], width, label='Not Approved')\n",
    "rects2 = ax.bar(x + width/2, [i for i in group.loc['Y'].Loan_ID], width, label='Approved')\n",
    "ax.set_xticks(x)\n",
    "ax.set_xticklabels(group.loc['N'].index)\n",
    "ax.legend()\n",
    "ax.set_title('Self_Employed vs Loan Status')\n",
    "for p in ax.patches:\n",
    "    h = p.get_height()\n",
    "    x = p.get_x()+p.get_width()/2\n",
    "    ax.annotate(\"%g\" % p.get_height(), xy=(x,h), xytext=(0,2),textcoords=\"offset points\", ha=\"center\", va=\"bottom\")"
   ]
  },
  {
   "cell_type": "code",
   "execution_count": 13,
   "id": "fleet-accent",
   "metadata": {},
   "outputs": [
    {
     "data": {
      "image/png": "[encoded data removed]",
      "text/plain": [
       "<Figure size 1080x504 with 1 Axes>"
      ]
     },
     "metadata": {
      "needs_background": "light"
     },
     "output_type": "display_data"
    }
   ],
   "source": [
    "group=pd.DataFrame(train.groupby(['Loan_Status','Property_Area']).count()['Loan_ID'])\n",
    "width=.35\n",
    "x=np.arange(len(group.loc['N'].index))\n",
    "fig,ax=plt.subplots(figsize=(15,7))\n",
    "rects1 = ax.bar(x - width/2, [i for i in group.loc['N'].Loan_ID], width, label='Not Approved')\n",
    "rects2 = ax.bar(x + width/2, [i for i in group.loc['Y'].Loan_ID], width, label='Approved')\n",
    "ax.set_xticks(x)\n",
    "ax.set_xticklabels(group.loc['N'].index)\n",
    "ax.legend()\n",
    "ax.set_title('Property_Area vs Loan Status')\n",
    "for p in ax.patches:\n",
    "    h = p.get_height()\n",
    "    x = p.get_x()+p.get_width()/2\n",
    "    ax.annotate(\"%g\" % p.get_height(), xy=(x,h), xytext=(0,2),textcoords=\"offset points\", ha=\"center\", va=\"bottom\")"
   ]
  },
  {
   "cell_type": "code",
   "execution_count": 14,
   "id": "ordered-affairs",
   "metadata": {},
   "outputs": [
    {
     "data": {
      "image/png": "[encoded data removed]",
      "text/plain": [
       "<Figure size 1080x504 with 1 Axes>"
      ]
     },
     "metadata": {
      "needs_background": "light"
     },
     "output_type": "display_data"
    }
   ],
   "source": [
    "group=pd.DataFrame(train.groupby(['Loan_Status','Credit_History']).count()['Loan_ID'])\n",
    "width=.35\n",
    "x=np.arange(len(group.loc['N'].index))\n",
    "fig,ax=plt.subplots(figsize=(15,7))\n",
    "rects1 = ax.bar(x - width/2, [i for i in group.loc['N'].Loan_ID], width, label='Not Approved')\n",
    "rects2 = ax.bar(x + width/2, [i for i in group.loc['Y'].Loan_ID], width, label='Approved')\n",
    "ax.set_xticks(x)\n",
    "ax.set_xticklabels(group.loc['N'].index)\n",
    "ax.legend()\n",
    "ax.set_title('Credit_History vs Loan Status')\n",
    "for p in ax.patches:\n",
    "    h = p.get_height()\n",
    "    x = p.get_x()+p.get_width()/2\n",
    "    ax.annotate(\"%g\" % p.get_height(), xy=(x,h), xytext=(0,2),textcoords=\"offset points\", ha=\"center\", va=\"bottom\")"
   ]
  },
  {
   "cell_type": "code",
   "execution_count": 15,
   "id": "joint-referral",
   "metadata": {},
   "outputs": [
    {
     "data": {
      "image/png": "[encoded data removed]",
      "text/plain": [
       "<Figure size 1080x504 with 1 Axes>"
      ]
     },
     "metadata": {
      "needs_background": "light"
     },
     "output_type": "display_data"
    }
   ],
   "source": [
    "group=sub_train[['Loan_Status','ApplicantIncome']]\n",
    "group['bins']=pd.cut(x=group['ApplicantIncome'],bins=[0,10000,20000,30000,40000,50000,60000,70000,80000])\n",
    "group=pd.DataFrame(group.groupby(['Loan_Status','bins']).count()['ApplicantIncome'])\n",
    "width=.35\n",
    "x=np.arange(len(group.loc['N'].index))\n",
    "fig,ax=plt.subplots(figsize=(15,7))\n",
    "rects1 = ax.bar(x - width/2, [i for i in group.loc['N'].ApplicantIncome], width, label='Not Approved')\n",
    "rects2 = ax.bar(x + width/2, [i for i in group.loc['Y'].ApplicantIncome], width, label='Approved')\n",
    "ax.set_xticks(x)\n",
    "ax.set_xticklabels(group.loc['N'].index)\n",
    "ax.legend()\n",
    "ax.set_title('ApplicantIncomeGroup vs Loan Status')\n",
    "for p in ax.patches:\n",
    "    h = p.get_height()\n",
    "    x = p.get_x()+p.get_width()/2\n",
    "    ax.annotate(\"%g\" % p.get_height(), xy=(x,h), xytext=(0,2),textcoords=\"offset points\", ha=\"center\", va=\"bottom\")"
   ]
  },
  {
   "cell_type": "code",
   "execution_count": 16,
   "id": "individual-eclipse",
   "metadata": {},
   "outputs": [
    {
     "data": {
      "image/png": "[encoded data removed]",
      "text/plain": [
       "<Figure size 1080x504 with 1 Axes>"
      ]
     },
     "metadata": {
      "needs_background": "light"
     },
     "output_type": "display_data"
    }
   ],
   "source": [
    "group=sub_train[['Loan_Status','CoapplicantIncome']]\n",
    "group['bins']=pd.cut(x=group['CoapplicantIncome'],bins=[0,10000,20000,30000,40000,50000,60000,70000,80000])\n",
    "group=pd.DataFrame(group.groupby(['Loan_Status','bins']).count()['CoapplicantIncome'])\n",
    "width=.35\n",
    "x=np.arange(len(group.loc['N'].index))\n",
    "fig,ax=plt.subplots(figsize=(15,7))\n",
    "rects1 = ax.bar(x - width/2, [i for i in group.loc['N'].CoapplicantIncome], width, label='Not Approved')\n",
    "rects2 = ax.bar(x + width/2, [i for i in group.loc['Y'].CoapplicantIncome], width, label='Approved')\n",
    "ax.set_xticks(x)\n",
    "ax.set_xticklabels(group.loc['N'].index)\n",
    "ax.legend()\n",
    "ax.set_title('CoapplicantIncomeGroup vs Loan Status')\n",
    "for p in ax.patches:\n",
    "    h = p.get_height()\n",
    "    x = p.get_x()+p.get_width()/2\n",
    "    ax.annotate(\"%g\" % p.get_height(), xy=(x,h), xytext=(0,2),textcoords=\"offset points\", ha=\"center\", va=\"bottom\")"
   ]
  },
  {
   "cell_type": "code",
   "execution_count": 17,
   "id": "neutral-shore",
   "metadata": {},
   "outputs": [
    {
     "data": {
      "image/png": "[encoded data removed]",
      "text/plain": [
       "<Figure size 1080x504 with 1 Axes>"
      ]
     },
     "metadata": {
      "needs_background": "light"
     },
     "output_type": "display_data"
    }
   ],
   "source": [
    "group=sub_train[['Loan_Status','LoanAmount']]\n",
    "group['bins']=pd.cut(x=group['LoanAmount'],bins=[0,100,200,300,400,500,600,700,800])\n",
    "group=pd.DataFrame(group.groupby(['Loan_Status','bins']).count()['LoanAmount'])\n",
    "width=.35\n",
    "x=np.arange(len(group.loc['N'].index))\n",
    "fig,ax=plt.subplots(figsize=(15,7))\n",
    "rects1 = ax.bar(x - width/2, [i for i in group.loc['N'].LoanAmount], width, label='Not Approved')\n",
    "rects2 = ax.bar(x + width/2, [i for i in group.loc['Y'].LoanAmount], width, label='Approved')\n",
    "ax.set_xticks(x)\n",
    "ax.set_xticklabels(group.loc['N'].index)\n",
    "ax.legend()\n",
    "ax.set_title('CoapplicantIncomeGroup vs Loan Status')\n",
    "for p in ax.patches:\n",
    "    h = p.get_height()\n",
    "    x = p.get_x()+p.get_width()/2\n",
    "    ax.annotate(\"%g\" % p.get_height(), xy=(x,h), xytext=(0,2),textcoords=\"offset points\", ha=\"center\", va=\"bottom\")"
   ]
  },
  {
   "cell_type": "code",
   "execution_count": 18,
   "id": "prostate-greensboro",
   "metadata": {},
   "outputs": [
    {
     "data": {
      "image/png": "[encoded data removed]",
      "text/plain": [
       "<Figure size 1080x504 with 1 Axes>"
      ]
     },
     "metadata": {
      "needs_background": "light"
     },
     "output_type": "display_data"
    }
   ],
   "source": [
    "group=pd.DataFrame(sub_train.groupby(['Loan_Status','Loan_Amount_Term']).count()['Loan_ID'])\n",
    "group=group.reindex(pd.MultiIndex.from_product([group.index.get_level_values(0).unique().sort_values(),\n",
    "                                                group.index.get_level_values(1).unique().sort_values()],\n",
    "                                               names=['Loan_Status','Loan_Amount_Term'])).fillna(0)\n",
    "width=.35\n",
    "x=np.arange(len(group.loc['Y'].index))\n",
    "fig,ax=plt.subplots(figsize=(15,7))\n",
    "rects1 = ax.bar(x - width/2, [i for i in group.loc['N'].Loan_ID], width, label='Not Approved')\n",
    "rects2 = ax.bar(x + width/2, [i for i in group.loc['Y'].Loan_ID], width, label='Approved')\n",
    "ax.set_xticks(x)\n",
    "ax.set_xticklabels(group.loc['Y'].index)\n",
    "ax.legend()\n",
    "ax.set_title('Loan_Amount_Term vs Loan Status')\n",
    "for p in ax.patches:\n",
    "    h = p.get_height()\n",
    "    x = p.get_x()+p.get_width()/2\n",
    "    ax.annotate(\"%g\" % p.get_height(), xy=(x,h), xytext=(0,2),textcoords=\"offset points\", ha=\"center\", va=\"bottom\")"
   ]
  },
  {
   "cell_type": "markdown",
   "id": "italic-discovery",
   "metadata": {},
   "source": [
    "# Model Evaluation and Selection"
   ]
  },
  {
   "cell_type": "code",
   "execution_count": 19,
   "id": "written-color",
   "metadata": {},
   "outputs": [],
   "source": [
    "sub_train['Loan_Status']=sub_train['Loan_Status'].apply(lambda x:1 if x=='Y' else 0)\n",
    "sub_test['Loan_Status']=sub_test['Loan_Status'].apply(lambda x:1 if x=='Y' else 0)"
   ]
  },
  {
   "cell_type": "code",
   "execution_count": 20,
   "id": "continent-drink",
   "metadata": {},
   "outputs": [],
   "source": [
    "drop=['Loan_ID','Loan_Status']\n",
    "\n",
    "x=sub_train[[x for x in sub_train.columns if x not in drop]]\n",
    "y=sub_train[['Loan_Status']]\n",
    "\n",
    "xx=sub_test[[x for x in sub_test.columns if x not in drop]]\n",
    "yy=sub_test[['Loan_Status']]"
   ]
  },
  {
   "cell_type": "code",
   "execution_count": 21,
   "id": "emerging-handy",
   "metadata": {},
   "outputs": [],
   "source": [
    "ct=ColumnTransformer([('ohe',OneHotEncoder(sparse=False, handle_unknown='ignore'),\n",
    "                       ['Gender', 'Married', 'Education','Self_Employed','Credit_History']),\n",
    "                     ('oe',OrdinalEncoder(),['Property_Area','Dependents'])],remainder='passthrough')"
   ]
  },
  {
   "cell_type": "code",
   "execution_count": 22,
   "id": "choice-factor",
   "metadata": {},
   "outputs": [
    {
     "data": {
      "text/html": [
       "<div>\n",
       "<style scoped>\n",
       "    .dataframe tbody tr th:only-of-type {\n",
       "        vertical-align: middle;\n",
       "    }\n",
       "\n",
       "    .dataframe tbody tr th {\n",
       "        vertical-align: top;\n",
       "    }\n",
       "\n",
       "    .dataframe thead th {\n",
       "        text-align: right;\n",
       "    }\n",
       "</style>\n",
       "<table border=\"1\" class=\"dataframe\">\n",
       "  <thead>\n",
       "    <tr style=\"text-align: right;\">\n",
       "      <th></th>\n",
       "      <th>Robust Scaler</th>\n",
       "      <th>Standard Scaler</th>\n",
       "      <th>Normalizer</th>\n",
       "    </tr>\n",
       "  </thead>\n",
       "  <tbody>\n",
       "    <tr>\n",
       "      <th>Logistic Regression</th>\n",
       "      <td>87.97</td>\n",
       "      <td>87.97</td>\n",
       "      <td>81.54</td>\n",
       "    </tr>\n",
       "    <tr>\n",
       "      <th>LinearDiscriminantAnalysis</th>\n",
       "      <td>87.97</td>\n",
       "      <td>87.97</td>\n",
       "      <td>87.78</td>\n",
       "    </tr>\n",
       "    <tr>\n",
       "      <th>LinearSVC</th>\n",
       "      <td>86.74</td>\n",
       "      <td>87.97</td>\n",
       "      <td>81.64</td>\n",
       "    </tr>\n",
       "    <tr>\n",
       "      <th>RandomForestClassifier</th>\n",
       "      <td>86.90</td>\n",
       "      <td>87.05</td>\n",
       "      <td>85.91</td>\n",
       "    </tr>\n",
       "    <tr>\n",
       "      <th>BaggingClassifier</th>\n",
       "      <td>81.55</td>\n",
       "      <td>81.38</td>\n",
       "      <td>82.65</td>\n",
       "    </tr>\n",
       "  </tbody>\n",
       "</table>\n",
       "</div>"
      ],
      "text/plain": [
       "                            Robust Scaler  Standard Scaler  Normalizer\n",
       "Logistic Regression                 87.97            87.97       81.54\n",
       "LinearDiscriminantAnalysis          87.97            87.97       87.78\n",
       "LinearSVC                           86.74            87.97       81.64\n",
       "RandomForestClassifier              86.90            87.05       85.91\n",
       "BaggingClassifier                   81.55            81.38       82.65"
      ]
     },
     "execution_count": 22,
     "metadata": {},
     "output_type": "execute_result"
    }
   ],
   "source": [
    "models=[LogisticRegression(random_state=1),LinearDiscriminantAnalysis(),LinearSVC(random_state=1),\n",
    "        RandomForestClassifier(random_state=1),BaggingClassifier(random_state=1)]\n",
    "scales=[RobustScaler(),StandardScaler(),Normalizer()]\n",
    "result=[]\n",
    "for model in models:\n",
    "    final=[]\n",
    "    for scale in scales:\n",
    "        pipe=Pipeline([('ct',ct),('scale',scale),('model',model)])\n",
    "        score=cross_val_score(estimator=pipe,X=x,y=np.array(y).ravel(),cv=5,n_jobs=-1,scoring='f1').mean()\n",
    "        final.append(round(score*100,2))\n",
    "    result.append(final)\n",
    "pd.DataFrame(result,index=['Logistic Regression','LinearDiscriminantAnalysis','LinearSVC',\n",
    "                          'RandomForestClassifier','BaggingClassifier'],columns=['Robust Scaler','Standard Scaler','Normalizer'])"
   ]
  },
  {
   "cell_type": "code",
   "execution_count": 23,
   "id": "approved-armenia",
   "metadata": {},
   "outputs": [
    {
     "data": {
      "text/html": [
       "<div>\n",
       "<style scoped>\n",
       "    .dataframe tbody tr th:only-of-type {\n",
       "        vertical-align: middle;\n",
       "    }\n",
       "\n",
       "    .dataframe tbody tr th {\n",
       "        vertical-align: top;\n",
       "    }\n",
       "\n",
       "    .dataframe thead th {\n",
       "        text-align: right;\n",
       "    }\n",
       "</style>\n",
       "<table border=\"1\" class=\"dataframe\">\n",
       "  <thead>\n",
       "    <tr style=\"text-align: right;\">\n",
       "      <th></th>\n",
       "      <th>Score</th>\n",
       "    </tr>\n",
       "  </thead>\n",
       "  <tbody>\n",
       "    <tr>\n",
       "      <th>F1 Score</th>\n",
       "      <td>0.867725</td>\n",
       "    </tr>\n",
       "    <tr>\n",
       "      <th>Precision</th>\n",
       "      <td>0.780952</td>\n",
       "    </tr>\n",
       "    <tr>\n",
       "      <th>Recall</th>\n",
       "      <td>0.976190</td>\n",
       "    </tr>\n",
       "    <tr>\n",
       "      <th>Accuracy</th>\n",
       "      <td>0.796748</td>\n",
       "    </tr>\n",
       "  </tbody>\n",
       "</table>\n",
       "</div>"
      ],
      "text/plain": [
       "              Score\n",
       "F1 Score   0.867725\n",
       "Precision  0.780952\n",
       "Recall     0.976190\n",
       "Accuracy   0.796748"
      ]
     },
     "execution_count": 23,
     "metadata": {},
     "output_type": "execute_result"
    }
   ],
   "source": [
    "pipe=Pipeline([('ct',ct),('scale',StandardScaler()),('model',LogisticRegression())])\n",
    "pipe.fit(x,y)\n",
    "y_pred=pipe.predict(xx)\n",
    "metrics_df=pd.DataFrame(data=[metrics.f1_score(yy,y_pred),metrics.precision_score(yy,y_pred),\n",
    "                              metrics.recall_score(yy,y_pred),metrics.accuracy_score(yy,y_pred)],\n",
    "                        index=['F1 Score','Precision','Recall','Accuracy'],\n",
    "                        columns=['Score'])\n",
    "metrics_df"
   ]
  },
  {
   "cell_type": "code",
   "execution_count": 24,
   "id": "deadly-enemy",
   "metadata": {},
   "outputs": [
    {
     "data": {
      "text/plain": [
       "Text(0.5, 1.0, 'Confusion Matrix')"
      ]
     },
     "execution_count": 24,
     "metadata": {},
     "output_type": "execute_result"
    },
    {
     "data": {
      "image/png": "[encoded data removed]",
      "text/plain": [
       "<Figure size 720x360 with 3 Axes>"
      ]
     },
     "metadata": {
      "needs_background": "light"
     },
     "output_type": "display_data"
    }
   ],
   "source": [
    "fper, tper, thresholds = metrics.roc_curve(yy, y_pred)\n",
    "fig,ax=plt.subplots(figsize=(10,5),nrows=1,ncols=2)\n",
    "ax[0].plot(fper, tper, color='orange', label='ROC')\n",
    "ax[0].plot([0, 1], [0, 1], color='darkblue', linestyle='--')\n",
    "ax[0].set_xlabel('False Positive Rate')\n",
    "ax[0].set_ylabel('True Positive Rate')\n",
    "ax[0].set_title('Receiver Operating Characteristic (ROC) Curve')\n",
    "ax[0].legend()\n",
    "metrics.plot_confusion_matrix(pipe, xx, yy,cmap=plt.cm.Blues, normalize = 'all',ax=ax[1])\n",
    "ax[1].set_title('Confusion Matrix')"
   ]
  },
  {
   "cell_type": "markdown",
   "id": "collective-accuracy",
   "metadata": {},
   "source": [
    "# Predicting Loan Approval Status on Test Data"
   ]
  },
  {
   "cell_type": "code",
   "execution_count": 25,
   "id": "legislative-virgin",
   "metadata": {},
   "outputs": [
    {
     "data": {
      "text/html": [
       "<div>\n",
       "<style scoped>\n",
       "    .dataframe tbody tr th:only-of-type {\n",
       "        vertical-align: middle;\n",
       "    }\n",
       "\n",
       "    .dataframe tbody tr th {\n",
       "        vertical-align: top;\n",
       "    }\n",
       "\n",
       "    .dataframe thead th {\n",
       "        text-align: right;\n",
       "    }\n",
       "</style>\n",
       "<table border=\"1\" class=\"dataframe\">\n",
       "  <thead>\n",
       "    <tr style=\"text-align: right;\">\n",
       "      <th></th>\n",
       "      <th>test_null_count</th>\n",
       "      <th>train_null_count</th>\n",
       "      <th>train_null_%</th>\n",
       "      <th>test_null_%</th>\n",
       "    </tr>\n",
       "  </thead>\n",
       "  <tbody>\n",
       "    <tr>\n",
       "      <th>Gender</th>\n",
       "      <td>11</td>\n",
       "      <td>13</td>\n",
       "      <td>2.12</td>\n",
       "      <td>3.00</td>\n",
       "    </tr>\n",
       "    <tr>\n",
       "      <th>Dependents</th>\n",
       "      <td>10</td>\n",
       "      <td>15</td>\n",
       "      <td>2.44</td>\n",
       "      <td>2.72</td>\n",
       "    </tr>\n",
       "    <tr>\n",
       "      <th>Self_Employed</th>\n",
       "      <td>23</td>\n",
       "      <td>32</td>\n",
       "      <td>5.21</td>\n",
       "      <td>6.27</td>\n",
       "    </tr>\n",
       "    <tr>\n",
       "      <th>LoanAmount</th>\n",
       "      <td>5</td>\n",
       "      <td>22</td>\n",
       "      <td>3.58</td>\n",
       "      <td>1.36</td>\n",
       "    </tr>\n",
       "    <tr>\n",
       "      <th>Loan_Amount_Term</th>\n",
       "      <td>6</td>\n",
       "      <td>14</td>\n",
       "      <td>2.28</td>\n",
       "      <td>1.63</td>\n",
       "    </tr>\n",
       "    <tr>\n",
       "      <th>Credit_History</th>\n",
       "      <td>29</td>\n",
       "      <td>50</td>\n",
       "      <td>8.14</td>\n",
       "      <td>7.90</td>\n",
       "    </tr>\n",
       "  </tbody>\n",
       "</table>\n",
       "</div>"
      ],
      "text/plain": [
       "                  test_null_count  train_null_count  train_null_%  test_null_%\n",
       "Gender                         11                13          2.12         3.00\n",
       "Dependents                     10                15          2.44         2.72\n",
       "Self_Employed                  23                32          5.21         6.27\n",
       "LoanAmount                      5                22          3.58         1.36\n",
       "Loan_Amount_Term                6                14          2.28         1.63\n",
       "Credit_History                 29                50          8.14         7.90"
      ]
     },
     "execution_count": 25,
     "metadata": {},
     "output_type": "execute_result"
    }
   ],
   "source": [
    "train_null_counts=pd.DataFrame(train.isnull().sum(),columns=['train_null_count'])\n",
    "train_null_counts=train_null_counts.loc[train_null_counts.train_null_count>0]\n",
    "test_null_counts=pd.DataFrame(test.isnull().sum(),columns=['test_null_count'])\n",
    "test_null_counts=test_null_counts.loc[test_null_counts.test_null_count>0]\n",
    "null_counts=test_null_counts.join(train_null_counts).fillna(0)\n",
    "null_counts['train_null_%']=round((null_counts['train_null_count']/train.shape[0])*100,2)\n",
    "null_counts['test_null_%']=round((null_counts['test_null_count']/test.shape[0])*100,2)\n",
    "null_counts"
   ]
  },
  {
   "cell_type": "code",
   "execution_count": 26,
   "id": "dutch-police",
   "metadata": {},
   "outputs": [],
   "source": [
    "# Categorical\n",
    "for i in [x for x in null_counts.index.to_list() if x not in ['Loan_Amount_Term','LoanAmount']]:\n",
    "    train[i].fillna(train[i].mode().values[0],inplace=True)\n",
    "    test[i].fillna(test[i].mode().values[0],inplace=True)\n",
    "\n",
    "# Numerical    \n",
    "for i in ['Loan_Amount_Term','LoanAmount']:\n",
    "    train[i].fillna(train[i].mode().values[0],inplace=True)\n",
    "    test[i].fillna(test[i].median(),inplace=True)"
   ]
  },
  {
   "cell_type": "code",
   "execution_count": 27,
   "id": "turned-evaluation",
   "metadata": {},
   "outputs": [],
   "source": [
    "train['Loan_Status']=train['Loan_Status'].apply(lambda x:1 if x=='Y' else 0)"
   ]
  },
  {
   "cell_type": "code",
   "execution_count": 28,
   "id": "functioning-export",
   "metadata": {},
   "outputs": [],
   "source": [
    "drop=['Loan_ID','Loan_Status']\n",
    "\n",
    "x_train=train[[x for x in train.columns if x not in drop]]\n",
    "y_train=train[['Loan_Status']]\n",
    "\n",
    "x_test=test[[x for x in test.columns if x not in drop]]"
   ]
  },
  {
   "cell_type": "code",
   "execution_count": 29,
   "id": "fuzzy-honor",
   "metadata": {},
   "outputs": [],
   "source": [
    "ct=ColumnTransformer([('ohe',OneHotEncoder(sparse=False, handle_unknown='ignore'),\n",
    "                       ['Gender', 'Married', 'Education','Self_Employed','Credit_History']),\n",
    "                     ('oe',OrdinalEncoder(),['Property_Area','Dependents'])],remainder='passthrough')"
   ]
  },
  {
   "cell_type": "code",
   "execution_count": 30,
   "id": "potential-batman",
   "metadata": {},
   "outputs": [],
   "source": [
    "pipe=Pipeline([('ct',ct),('scale',StandardScaler()),('model',LogisticRegression())])\n",
    "pipe.fit(x_train,y_train)\n",
    "y_pred=pipe.predict(x_test)"
   ]
  },
  {
   "cell_type": "code",
   "execution_count": 31,
   "id": "technological-wrestling",
   "metadata": {},
   "outputs": [
    {
     "data": {
      "text/html": [
       "<div>\n",
       "<style scoped>\n",
       "    .dataframe tbody tr th:only-of-type {\n",
       "        vertical-align: middle;\n",
       "    }\n",
       "\n",
       "    .dataframe tbody tr th {\n",
       "        vertical-align: top;\n",
       "    }\n",
       "\n",
       "    .dataframe thead th {\n",
       "        text-align: right;\n",
       "    }\n",
       "</style>\n",
       "<table border=\"1\" class=\"dataframe\">\n",
       "  <thead>\n",
       "    <tr style=\"text-align: right;\">\n",
       "      <th></th>\n",
       "      <th>Loan_ID</th>\n",
       "      <th>Loan_Status</th>\n",
       "    </tr>\n",
       "  </thead>\n",
       "  <tbody>\n",
       "    <tr>\n",
       "      <th>0</th>\n",
       "      <td>LP001015</td>\n",
       "      <td>1</td>\n",
       "    </tr>\n",
       "    <tr>\n",
       "      <th>1</th>\n",
       "      <td>LP001022</td>\n",
       "      <td>1</td>\n",
       "    </tr>\n",
       "    <tr>\n",
       "      <th>2</th>\n",
       "      <td>LP001031</td>\n",
       "      <td>1</td>\n",
       "    </tr>\n",
       "    <tr>\n",
       "      <th>3</th>\n",
       "      <td>LP001035</td>\n",
       "      <td>1</td>\n",
       "    </tr>\n",
       "    <tr>\n",
       "      <th>4</th>\n",
       "      <td>LP001051</td>\n",
       "      <td>1</td>\n",
       "    </tr>\n",
       "    <tr>\n",
       "      <th>...</th>\n",
       "      <td>...</td>\n",
       "      <td>...</td>\n",
       "    </tr>\n",
       "    <tr>\n",
       "      <th>362</th>\n",
       "      <td>LP002971</td>\n",
       "      <td>1</td>\n",
       "    </tr>\n",
       "    <tr>\n",
       "      <th>363</th>\n",
       "      <td>LP002975</td>\n",
       "      <td>1</td>\n",
       "    </tr>\n",
       "    <tr>\n",
       "      <th>364</th>\n",
       "      <td>LP002980</td>\n",
       "      <td>1</td>\n",
       "    </tr>\n",
       "    <tr>\n",
       "      <th>365</th>\n",
       "      <td>LP002986</td>\n",
       "      <td>1</td>\n",
       "    </tr>\n",
       "    <tr>\n",
       "      <th>366</th>\n",
       "      <td>LP002989</td>\n",
       "      <td>1</td>\n",
       "    </tr>\n",
       "  </tbody>\n",
       "</table>\n",
       "<p>367 rows × 2 columns</p>\n",
       "</div>"
      ],
      "text/plain": [
       "      Loan_ID  Loan_Status\n",
       "0    LP001015            1\n",
       "1    LP001022            1\n",
       "2    LP001031            1\n",
       "3    LP001035            1\n",
       "4    LP001051            1\n",
       "..        ...          ...\n",
       "362  LP002971            1\n",
       "363  LP002975            1\n",
       "364  LP002980            1\n",
       "365  LP002986            1\n",
       "366  LP002989            1\n",
       "\n",
       "[367 rows x 2 columns]"
      ]
     },
     "execution_count": 31,
     "metadata": {},
     "output_type": "execute_result"
    }
   ],
   "source": [
    "submission=test.join(pd.DataFrame(data=y_pred,columns=['Loan_Status']))[['Loan_ID','Loan_Status']]\n",
    "submission"
   ]
  },
  {
   "cell_type": "code",
   "execution_count": null,
   "id": "exposed-presentation",
   "metadata": {},
   "outputs": [],
   "source": []
  }
 ],
 "metadata": {
  "hide_input": false,
  "kernelspec": {
   "display_name": "Python 3",
   "language": "python",
   "name": "python3"
  },
  "language_info": {
   "codemirror_mode": {
    "name": "ipython",
    "version": 3
   },
   "file_extension": ".py",
   "mimetype": "text/x-python",
   "name": "python",
   "nbconvert_exporter": "python",
   "pygments_lexer": "ipython3",
   "version": "3.8.6"
  }
 },
 "nbformat": 4,
 "nbformat_minor": 5
}
